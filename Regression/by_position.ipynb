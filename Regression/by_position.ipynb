{
 "cells": [
  {
   "cell_type": "code",
   "execution_count": 15,
   "metadata": {},
   "outputs": [],
   "source": [
    "import pandas as pd\n",
    "\n",
    "price_range = pd.read_csv(\"GK PerApp 5GWs.csv\")"
   ]
  },
  {
   "cell_type": "code",
   "execution_count": 6,
   "metadata": {},
   "outputs": [],
   "source": [
    "# if price is within the range\n",
    "# RANGES\n",
    "\n",
    "# Below 5\n",
    "price_range = price_range.loc[(price_range[\"Cost\"] < 5)]\n",
    "price_range.to_csv(\"tempBelow5.csv\", index=False)"
   ]
  },
  {
   "cell_type": "code",
   "execution_count": 8,
   "metadata": {},
   "outputs": [],
   "source": [
    "# Between 5 and 6\n",
    "price_range = price_range[price_range[\"Cost\"].between(5, 6, inclusive=\"left\")]\n",
    "price_range.to_csv(\"temp5to6.csv\", index=False)"
   ]
  },
  {
   "cell_type": "code",
   "execution_count": 10,
   "metadata": {},
   "outputs": [],
   "source": [
    "# Between 6 and 7\n",
    "price_range = price_range[price_range[\"Cost\"].between(6, 7, inclusive=\"left\")]\n",
    "price_range.to_csv(\"temp6to7.csv\", index=False)"
   ]
  },
  {
   "cell_type": "code",
   "execution_count": 12,
   "metadata": {},
   "outputs": [],
   "source": [
    "# Between 7 and 8\n",
    "price_range = price_range[price_range[\"Cost\"].between(7, 8, inclusive=\"left\")]\n",
    "price_range.to_csv(\"temp7to8.csv\", index=False)"
   ]
  },
  {
   "cell_type": "code",
   "execution_count": 14,
   "metadata": {},
   "outputs": [],
   "source": [
    "# Between 8 and 9\n",
    "price_range = price_range[price_range[\"Cost\"].between(8, 9, inclusive=\"left\")]\n",
    "price_range.to_csv(\"temp8to9.csv\", index=False)"
   ]
  },
  {
   "cell_type": "code",
   "execution_count": 16,
   "metadata": {},
   "outputs": [],
   "source": [
    "# Between 9 and 10\n",
    "price_range = price_range[price_range[\"Cost\"].between(9, 10, inclusive=\"left\")]\n",
    "price_range.to_csv(\"temp9to10.csv\", index=False)"
   ]
  },
  {
   "cell_type": "code",
   "execution_count": 21,
   "metadata": {},
   "outputs": [],
   "source": [
    "# Between 10 and 11\n",
    "price_range = price_range[price_range[\"Cost\"].between(10, 11, inclusive=\"left\")]\n",
    "price_range.to_csv(\"temp10to11.csv\", index=False)"
   ]
  },
  {
   "cell_type": "code",
   "execution_count": 22,
   "metadata": {},
   "outputs": [],
   "source": [
    "# Between 11 and 12\n",
    "price_range = price_range[price_range[\"Cost\"].between(11, 12, inclusive=\"left\")]\n",
    "price_range.to_csv(\"temp11to12.csv\", index=False)"
   ]
  },
  {
   "cell_type": "code",
   "execution_count": 23,
   "metadata": {},
   "outputs": [],
   "source": [
    "# Above 12\n",
    "price_range = price_range.loc[(price_range[\"Cost (£M)\"] >= 12)]\n",
    "price_range.to_csv(\"tempAbove12.csv\", index=False)"
   ]
  }
 ],
 "metadata": {
  "interpreter": {
   "hash": "cc952a28b10c3fac82237556b724e7ec854d8f40a4020bd25c0f35ad5cf39977"
  },
  "kernelspec": {
   "display_name": "Python 3.10.2 64-bit",
   "language": "python",
   "name": "python3"
  },
  "language_info": {
   "codemirror_mode": {
    "name": "ipython",
    "version": 3
   },
   "file_extension": ".py",
   "mimetype": "text/x-python",
   "name": "python",
   "nbconvert_exporter": "python",
   "pygments_lexer": "ipython3",
   "version": "3.10.2"
  },
  "orig_nbformat": 4
 },
 "nbformat": 4,
 "nbformat_minor": 2
}
