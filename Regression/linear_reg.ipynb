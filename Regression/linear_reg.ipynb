{
 "cells": [
  {
   "cell_type": "code",
   "execution_count": 1,
   "metadata": {},
   "outputs": [],
   "source": [
    "# Import necessary libraries\n",
    "import pandas as pd\n",
    "import numpy as np\n",
    "import matplotlib.pyplot as plt\n",
    "import seaborn as sns\n",
    "from sklearn import linear_model"
   ]
  },
  {
   "cell_type": "code",
   "execution_count": 2,
   "metadata": {},
   "outputs": [
    {
     "data": {
      "text/html": [
       "<div>\n",
       "<style scoped>\n",
       "    .dataframe tbody tr th:only-of-type {\n",
       "        vertical-align: middle;\n",
       "    }\n",
       "\n",
       "    .dataframe tbody tr th {\n",
       "        vertical-align: top;\n",
       "    }\n",
       "\n",
       "    .dataframe thead th {\n",
       "        text-align: right;\n",
       "    }\n",
       "</style>\n",
       "<table border=\"1\" class=\"dataframe\">\n",
       "  <thead>\n",
       "    <tr style=\"text-align: right;\">\n",
       "      <th></th>\n",
       "      <th>Name</th>\n",
       "      <th>App.</th>\n",
       "      <th>Minutes</th>\n",
       "      <th>Shots</th>\n",
       "      <th>Shots on Target</th>\n",
       "      <th>Shots in Box</th>\n",
       "      <th>Shots Outside Box</th>\n",
       "      <th>Headed Attempts</th>\n",
       "      <th>Big Chance</th>\n",
       "      <th>Big Chance Created</th>\n",
       "      <th>...</th>\n",
       "      <th>Second Yellows</th>\n",
       "      <th>Red Cards</th>\n",
       "      <th>Offsides</th>\n",
       "      <th>Errors (lead to Goal)</th>\n",
       "      <th>Errors (lead to Shot)</th>\n",
       "      <th>Own Goals</th>\n",
       "      <th>Names</th>\n",
       "      <th>Position</th>\n",
       "      <th>Team</th>\n",
       "      <th>Points_y</th>\n",
       "    </tr>\n",
       "  </thead>\n",
       "  <tbody>\n",
       "    <tr>\n",
       "      <th>0</th>\n",
       "      <td>Patrício (G)WOL</td>\n",
       "      <td>6</td>\n",
       "      <td>90</td>\n",
       "      <td>0.0</td>\n",
       "      <td>0.0</td>\n",
       "      <td>0.0</td>\n",
       "      <td>0.0</td>\n",
       "      <td>0.0</td>\n",
       "      <td>0.0</td>\n",
       "      <td>0.0</td>\n",
       "      <td>...</td>\n",
       "      <td>0</td>\n",
       "      <td>0.0</td>\n",
       "      <td>0.0</td>\n",
       "      <td>0.0</td>\n",
       "      <td>0.0</td>\n",
       "      <td>0.0</td>\n",
       "      <td>Patrício</td>\n",
       "      <td>G</td>\n",
       "      <td>8</td>\n",
       "      <td>6.67</td>\n",
       "    </tr>\n",
       "    <tr>\n",
       "      <th>1</th>\n",
       "      <td>Begović (G)EVE</td>\n",
       "      <td>6</td>\n",
       "      <td>90</td>\n",
       "      <td>0.0</td>\n",
       "      <td>0.0</td>\n",
       "      <td>0.0</td>\n",
       "      <td>0.0</td>\n",
       "      <td>0.0</td>\n",
       "      <td>0.0</td>\n",
       "      <td>0.0</td>\n",
       "      <td>...</td>\n",
       "      <td>0</td>\n",
       "      <td>0.0</td>\n",
       "      <td>0.0</td>\n",
       "      <td>0.0</td>\n",
       "      <td>0.0</td>\n",
       "      <td>0.0</td>\n",
       "      <td>Begović</td>\n",
       "      <td>G</td>\n",
       "      <td>10</td>\n",
       "      <td>5.67</td>\n",
       "    </tr>\n",
       "    <tr>\n",
       "      <th>2</th>\n",
       "      <td>Ryan (G)BHA</td>\n",
       "      <td>6</td>\n",
       "      <td>90</td>\n",
       "      <td>0.0</td>\n",
       "      <td>0.0</td>\n",
       "      <td>0.0</td>\n",
       "      <td>0.0</td>\n",
       "      <td>0.0</td>\n",
       "      <td>0.0</td>\n",
       "      <td>0.0</td>\n",
       "      <td>...</td>\n",
       "      <td>0</td>\n",
       "      <td>0.0</td>\n",
       "      <td>0.0</td>\n",
       "      <td>0.0</td>\n",
       "      <td>0.0</td>\n",
       "      <td>0.0</td>\n",
       "      <td>Ryan</td>\n",
       "      <td>G</td>\n",
       "      <td>13</td>\n",
       "      <td>7.67</td>\n",
       "    </tr>\n",
       "  </tbody>\n",
       "</table>\n",
       "<p>3 rows × 95 columns</p>\n",
       "</div>"
      ],
      "text/plain": [
       "              Name App.  Minutes  Shots  Shots on Target  Shots in Box  \\\n",
       "0  Patrício (G)WOL    6       90    0.0              0.0           0.0   \n",
       "1   Begović (G)EVE    6       90    0.0              0.0           0.0   \n",
       "2      Ryan (G)BHA    6       90    0.0              0.0           0.0   \n",
       "\n",
       "   Shots Outside Box  Headed Attempts  Big Chance  Big Chance Created  ...  \\\n",
       "0                0.0              0.0         0.0                 0.0  ...   \n",
       "1                0.0              0.0         0.0                 0.0  ...   \n",
       "2                0.0              0.0         0.0                 0.0  ...   \n",
       "\n",
       "   Second Yellows  Red Cards  Offsides  Errors (lead to Goal)  \\\n",
       "0               0        0.0       0.0                    0.0   \n",
       "1               0        0.0       0.0                    0.0   \n",
       "2               0        0.0       0.0                    0.0   \n",
       "\n",
       "   Errors (lead to Shot)  Own Goals      Names  Position  Team  Points_y  \n",
       "0                    0.0        0.0  Patrício          G     8      6.67  \n",
       "1                    0.0        0.0   Begović          G    10      5.67  \n",
       "2                    0.0        0.0      Ryan          G    13      7.67  \n",
       "\n",
       "[3 rows x 95 columns]"
      ]
     },
     "execution_count": 2,
     "metadata": {},
     "output_type": "execute_result"
    }
   ],
   "source": [
    "dataset = pd.read_csv(\"GK PerApp 6GWs.csv\")\n",
    "dataset.head(3)"
   ]
  },
  {
   "cell_type": "code",
   "execution_count": 3,
   "metadata": {},
   "outputs": [],
   "source": [
    "dataset.drop([\"Name\", \"App.\", \"Minutes\", \"Fouls Made\", \"Exp. Clean Sheets\", \"Names\", \"Position\"], axis=1, inplace=True)"
   ]
  },
  {
   "cell_type": "code",
   "execution_count": 4,
   "metadata": {},
   "outputs": [],
   "source": [
    "# Setting up the values of x and y\n",
    "x = dataset.drop([\"Points_y\"], axis=1, inplace=False)\n",
    "y = dataset[\"Points_y\"]"
   ]
  },
  {
   "cell_type": "code",
   "execution_count": 5,
   "metadata": {},
   "outputs": [],
   "source": [
    "# Splitting the dataset into test and train\n",
    "from sklearn.model_selection import train_test_split\n",
    "x_train, x_test, y_train, y_test = train_test_split(x, y, test_size=0.3)"
   ]
  },
  {
   "cell_type": "code",
   "execution_count": 6,
   "metadata": {},
   "outputs": [
    {
     "data": {
      "text/plain": [
       "LinearRegression()"
      ]
     },
     "execution_count": 6,
     "metadata": {},
     "output_type": "execute_result"
    }
   ],
   "source": [
    "# Fitting the model\n",
    "from sklearn.linear_model import LinearRegression\n",
    "model = LinearRegression()\n",
    "model.fit(x_train, y_train)"
   ]
  },
  {
   "cell_type": "code",
   "execution_count": 7,
   "metadata": {},
   "outputs": [],
   "source": [
    "y_predict = model.predict(x_test)"
   ]
  },
  {
   "cell_type": "code",
   "execution_count": 22,
   "metadata": {},
   "outputs": [],
   "source": [
    "# Turn the prediction and the y_test into list of ints because of the accuracy tests to be run\n",
    "\n",
    "y_test = [int(x) for x in y_test]\n",
    "y_predict = [int(x) for x in y_predict]\n",
    "\n",
    "df = pd.DataFrame(y_predict)\n",
    "df1 = pd.DataFrame(y_test)\n",
    "\n",
    "df.to_csv(\"test.csv\")"
   ]
  },
  {
   "cell_type": "code",
   "execution_count": 10,
   "metadata": {},
   "outputs": [],
   "source": [
    "final_predict = [1 if num >= 4 else 0 for num in y_predict]\n",
    "final_test = [1 if num >= 4 else 0 for num in y_test]\n"
   ]
  },
  {
   "cell_type": "code",
   "execution_count": 13,
   "metadata": {},
   "outputs": [
    {
     "data": {
      "text/plain": [
       "0.36363636363636365"
      ]
     },
     "execution_count": 13,
     "metadata": {},
     "output_type": "execute_result"
    }
   ],
   "source": [
    "from sklearn.metrics import f1_score\n",
    "\n",
    "f_score = f1_score(final_test, final_predict)\n",
    "\n",
    "f_score\n"
   ]
  },
  {
   "cell_type": "code",
   "execution_count": null,
   "metadata": {},
   "outputs": [],
   "source": [
    "from sklearn.metrics import average_precision_score\n",
    "from sklearn.metrics import accuracy_score\n",
    "\n",
    "f\"{average_precision_score(final_test, final_predict) * 100:.3f}\"\n",
    "\n",
    "print(accuracy_score(final_test, final_predict))\n",
    "\n",
    "scores = []"
   ]
  },
  {
   "cell_type": "code",
   "execution_count": null,
   "metadata": {},
   "outputs": [],
   "source": [
    "score = f\"{average_precision_score(final_test, final_predict) * 100:.2f}\"\n",
    "scores.append(score)\n",
    "\n",
    "print(type(score))\n",
    "print(scores)"
   ]
  }
 ],
 "metadata": {
  "interpreter": {
   "hash": "cc952a28b10c3fac82237556b724e7ec854d8f40a4020bd25c0f35ad5cf39977"
  },
  "kernelspec": {
   "display_name": "Python 3.10.2 64-bit",
   "language": "python",
   "name": "python3"
  },
  "language_info": {
   "codemirror_mode": {
    "name": "ipython",
    "version": 3
   },
   "file_extension": ".py",
   "mimetype": "text/x-python",
   "name": "python",
   "nbconvert_exporter": "python",
   "pygments_lexer": "ipython3",
   "version": "3.10.2"
  },
  "orig_nbformat": 4
 },
 "nbformat": 4,
 "nbformat_minor": 2
}
